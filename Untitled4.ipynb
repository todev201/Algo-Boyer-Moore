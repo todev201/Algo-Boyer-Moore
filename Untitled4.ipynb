{
 "cells": [
  {
   "cell_type": "code",
   "execution_count": 1,
   "id": "468ce48a",
   "metadata": {},
   "outputs": [
    {
     "name": "stdout",
     "output_type": "stream",
     "text": [
      "Pattern found at indices: []\n"
     ]
    }
   ],
   "source": [
    "def bad_character_table(pattern):\n",
    "    table = {}\n",
    "    for i in range(len(pattern)):\n",
    "        table[pattern[i]] = i\n",
    "    return table\n",
    "\n",
    "def good_suffix_table(pattern):\n",
    "    m = len(pattern)\n",
    "    table = [0] * (m + 1)\n",
    "    last_prefix_position = m\n",
    "    for i in range(m):\n",
    "        if is_prefix(pattern, i + 1):\n",
    "            last_prefix_position = i + 1\n",
    "        table[m - i] = last_prefix_position - i + m - 1\n",
    "    for i in range(m - 1):\n",
    "        slen = suffix_length(pattern, i)\n",
    "        table[slen] = m - 1 - i + slen\n",
    "    return table\n",
    "\n",
    "def is_prefix(pattern, p):\n",
    "    m = len(pattern)\n",
    "    for i in range(p, m):\n",
    "        if pattern[i] != pattern[i - p]:\n",
    "            return False\n",
    "    return True\n",
    "\n",
    "def suffix_length(pattern, p):\n",
    "    m = len(pattern)\n",
    "    length = 0\n",
    "    for i in range(p, -1, -1):\n",
    "        if pattern[i] == pattern[m - 1 - p + i]:\n",
    "            length += 1\n",
    "        else:\n",
    "            break\n",
    "    return length\n",
    "\n",
    "def boyer_moore(text, pattern):\n",
    "    bad_char = bad_character_table(pattern)\n",
    "    good_suffix = good_suffix_table(pattern)\n",
    "    m = len(pattern)\n",
    "    n = len(text)\n",
    "    i = 0\n",
    "    results = []\n",
    "    while i <= n - m:\n",
    "        j = m - 1\n",
    "        while j >= 0 and pattern[j] == text[i + j]:\n",
    "            j -= 1\n",
    "        if j < 0:\n",
    "            results.append(i)\n",
    "            i += good_suffix[0]\n",
    "        else:\n",
    "            i += max(good_suffix[j + 1], j - bad_char.get(text[i + j], -1))\n",
    "    return results\n",
    "\n",
    "# Exemple d'utilisation\n",
    "text = \"ABAAABCDABC\"\n",
    "pattern = \"ABC\"\n",
    "positions = boyer_moore(text, pattern)\n",
    "print(f\"Pattern found at indices: {positions}\")\n"
   ]
  },
  {
   "cell_type": "code",
   "execution_count": null,
   "id": "8a30b586",
   "metadata": {},
   "outputs": [],
   "source": []
  }
 ],
 "metadata": {
  "kernelspec": {
   "display_name": "Python 3 (ipykernel)",
   "language": "python",
   "name": "python3"
  },
  "language_info": {
   "codemirror_mode": {
    "name": "ipython",
    "version": 3
   },
   "file_extension": ".py",
   "mimetype": "text/x-python",
   "name": "python",
   "nbconvert_exporter": "python",
   "pygments_lexer": "ipython3",
   "version": "3.11.5"
  }
 },
 "nbformat": 4,
 "nbformat_minor": 5
}
